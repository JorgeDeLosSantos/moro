{
 "cells": [
  {
   "cell_type": "code",
   "execution_count": 1,
   "id": "78a3389e",
   "metadata": {},
   "outputs": [],
   "source": [
    "from moro import *\n",
    "import random"
   ]
  },
  {
   "cell_type": "code",
   "execution_count": 2,
   "id": "403408e7",
   "metadata": {},
   "outputs": [],
   "source": [
    "def generate_random_rotation():\n",
    "    axis = (\"x\",\"y\",\"z\")\n",
    "    angles = [0,pi/6,pi/4,pi/3,pi/2,2*pi/3,3*pi/4,5*pi/6,pi,-pi/6,-pi/4,-pi/3,-pi/2]\n",
    "    R1 = rot(random.choice(angles), random.choice(axis))\n",
    "    R2 = rot(random.choice(angles), random.choice(axis))\n",
    "    R3 = rot(random.choice(angles), random.choice(axis))\n",
    "    return R1*R2*R3"
   ]
  },
  {
   "cell_type": "code",
   "execution_count": 42,
   "id": "38ca0b94",
   "metadata": {},
   "outputs": [],
   "source": [
    "def is_equal(R1,R2,R3):\n",
    "    tol = 1e-6\n",
    "    c1 = abs(R1 - R2).norm() < tol\n",
    "    c2 = abs(R1 - R3).norm() < tol\n",
    "    if c1 and c2:\n",
    "        return True\n",
    "    return False"
   ]
  },
  {
   "cell_type": "code",
   "execution_count": 52,
   "id": "606f1c5d",
   "metadata": {
    "scrolled": false
   },
   "outputs": [],
   "source": [
    "ok = 0\n",
    "nok = 0\n",
    "Rnok = []\n",
    "\n",
    "for k in range(1000):\n",
    "    R = generate_random_rotation()\n",
    "    seq = \"zyz\"\n",
    "    sol = rot2eul(R, seq)\n",
    "    if len(sol)==1:\n",
    "        phi,theta,psi = sol[0][0], sol[0][1], sol[0][2]\n",
    "        Rsol1 = eul2rot(phi,theta,psi,seq).evalf(8)\n",
    "        Rsol2 = eul2rot(phi,theta,psi,seq).evalf(8)\n",
    "    elif len(sol)==2:\n",
    "        phi1,theta1,psi1 = sol[0][0], sol[0][1], sol[0][2]\n",
    "        phi2,theta2,psi2 = sol[1][0], sol[1][1], sol[1][2]\n",
    "        Rsol1 = eul2rot(phi1,theta1,psi1,seq).evalf(8)\n",
    "        Rsol2 = eul2rot(phi2,theta2,psi2,seq).evalf(8)\n",
    "    if is_equal(R,Rsol1,Rsol2):\n",
    "        ok += 1\n",
    "    else:\n",
    "        nok += 1\n",
    "        Rnok.append([R, Rsol1, Rsol2])"
   ]
  },
  {
   "cell_type": "code",
   "execution_count": 53,
   "id": "b90a666d",
   "metadata": {},
   "outputs": [
    {
     "data": {
      "image/png": "[encoded data removed]",
      "text/latex": [
       "$\\displaystyle \\left( 1000, \\  0\\right)$"
      ],
      "text/plain": [
       "(1000, 0)"
      ]
     },
     "execution_count": 53,
     "metadata": {},
     "output_type": "execute_result"
    }
   ],
   "source": [
    "ok, nok"
   ]
  },
  {
   "cell_type": "code",
   "execution_count": null,
   "id": "20a6b341",
   "metadata": {},
   "outputs": [],
   "source": []
  }
 ],
 "metadata": {
  "kernelspec": {
   "display_name": "Python 3 (ipykernel)",
   "language": "python",
   "name": "python3"
  },
  "language_info": {
   "codemirror_mode": {
    "name": "ipython",
    "version": 3
   },
   "file_extension": ".py",
   "mimetype": "text/x-python",
   "name": "python",
   "nbconvert_exporter": "python",
   "pygments_lexer": "ipython3",
   "version": "3.9.12"
  }
 },
 "nbformat": 4,
 "nbformat_minor": 5
}
