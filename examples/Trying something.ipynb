{
 "cells": [
  {
   "cell_type": "code",
   "execution_count": 29,
   "id": "637d000a",
   "metadata": {},
   "outputs": [],
   "source": [
    "from moro import *\n",
    "from moro.inverse_kinematics import *"
   ]
  },
  {
   "cell_type": "code",
   "execution_count": 49,
   "id": "bb6f8d8e",
   "metadata": {},
   "outputs": [],
   "source": [
    "RR = Robot((200,0,0,q1), (200,0,0,q2))"
   ]
  },
  {
   "cell_type": "code",
   "execution_count": 52,
   "id": "b5b285ff",
   "metadata": {},
   "outputs": [
    {
     "data": {
      "image/png": "[encoded data removed]",
      "text/latex": [
       "$\\displaystyle \\left( \\left[\\begin{matrix}200 \\cos{\\left(q_{1} + q_{2} \\right)} + 200 \\cos{\\left(q_{1} \\right)}\\\\200 \\sin{\\left(q_{1} + q_{2} \\right)} + 200 \\sin{\\left(q_{1} \\right)}\\\\0\\end{matrix}\\right], \\  \\left[\\begin{matrix}200\\\\200\\\\0\\end{matrix}\\right]\\right)$"
      ],
      "text/plain": [
       "⎛⎡200⋅cos(q₁ + q₂) + 200⋅cos(q₁)⎤  ⎡200⎤⎞\n",
       "⎜⎢                              ⎥  ⎢   ⎥⎟\n",
       "⎜⎢200⋅sin(q₁ + q₂) + 200⋅sin(q₁)⎥, ⎢200⎥⎟\n",
       "⎜⎢                              ⎥  ⎢   ⎥⎟\n",
       "⎝⎣              0               ⎦  ⎣ 0 ⎦⎠"
      ]
     },
     "execution_count": 52,
     "metadata": {},
     "output_type": "execute_result"
    }
   ],
   "source": [
    "r_e = RR.T[:3,3]\n",
    "r_d = Matrix([200,200,0])\n",
    "r_e, r_d"
   ]
  },
  {
   "cell_type": "code",
   "execution_count": 53,
   "id": "f8194ea2",
   "metadata": {},
   "outputs": [
    {
     "data": {
      "image/png": "[encoded data removed]",
      "text/latex": [
       "$\\displaystyle \\left[\\begin{matrix}200 \\cos{\\left(q_{1} + q_{2} \\right)} + 200 \\cos{\\left(q_{1} \\right)} - 200\\\\200 \\sin{\\left(q_{1} + q_{2} \\right)} + 200 \\sin{\\left(q_{1} \\right)} - 200\\\\0\\end{matrix}\\right]$"
      ],
      "text/plain": [
       "⎡200⋅cos(q₁ + q₂) + 200⋅cos(q₁) - 200⎤\n",
       "⎢                                    ⎥\n",
       "⎢200⋅sin(q₁ + q₂) + 200⋅sin(q₁) - 200⎥\n",
       "⎢                                    ⎥\n",
       "⎣                 0                  ⎦"
      ]
     },
     "execution_count": 53,
     "metadata": {},
     "output_type": "execute_result"
    }
   ],
   "source": [
    "equations = r_e - r_d\n",
    "equations"
   ]
  },
  {
   "cell_type": "code",
   "execution_count": 104,
   "id": "f1b410fc",
   "metadata": {},
   "outputs": [],
   "source": [
    "def gradient_descent(equations,variables,initial_guesses,eps=1e-6):\n",
    "    J = equations.jacobian(variables)\n",
    "    joint_pos = dict( zip(variables, initial_guesses) ) # joint pos\n",
    "    q = sp.Matrix(initial_guesses)\n",
    "    e = equations.subs(joint_pos)\n",
    "    beta = beta0 = 0.5\n",
    "    k = 0\n",
    "    while e.norm() > eps:\n",
    "        JN = J.subs( joint_pos )\n",
    "        Jinv = JN.pinv()\n",
    "        De = beta*-e\n",
    "        Dq = Jinv*De\n",
    "        q = q + Dq\n",
    "        joint_pos = dict( zip(variables, q) ) # updating joint positions\n",
    "        e = equations.subs(joint_pos)\n",
    "        k += 1\n",
    "        beta = (beta0)/(1 + 0.01*k)\n",
    "        print(beta)\n",
    "        if k > 100:\n",
    "            raise ValueError(f\"Could not find solution. Last calculated: {joint_pos} {e.norm()} {k}\")\n",
    "    return joint_pos, e.norm(), k"
   ]
  },
  {
   "cell_type": "code",
   "execution_count": 105,
   "id": "b20a8fe6",
   "metadata": {},
   "outputs": [
    {
     "name": "stdout",
     "output_type": "stream",
     "text": [
      "0.49504950495049505\n",
      "0.49019607843137253\n",
      "0.4854368932038835\n",
      "0.4807692307692307\n",
      "0.47619047619047616\n",
      "0.4716981132075471\n",
      "0.4672897196261682\n",
      "0.4629629629629629\n",
      "0.4587155963302752\n",
      "0.45454545454545453\n",
      "0.4504504504504504\n",
      "0.4464285714285714\n",
      "0.4424778761061947\n",
      "0.43859649122807015\n",
      "0.4347826086956522\n",
      "0.4310344827586207\n",
      "0.4273504273504274\n",
      "0.42372881355932207\n",
      "0.42016806722689076\n",
      "0.4166666666666667\n",
      "0.4132231404958678\n",
      "0.4098360655737705\n",
      "0.4065040650406504\n",
      "0.40322580645161293\n",
      "0.4\n",
      "0.3968253968253968\n",
      "0.39370078740157477\n",
      "0.390625\n",
      "0.38759689922480617\n",
      "0.3846153846153846\n",
      "0.38167938931297707\n",
      "0.3787878787878788\n",
      "0.37593984962406013\n",
      "0.3731343283582089\n",
      "0.37037037037037035\n",
      "0.36764705882352944\n",
      "0.36496350364963503\n",
      "0.3623188405797102\n",
      "0.3597122302158273\n"
     ]
    },
    {
     "data": {
      "image/png": "[encoded data removed]",
      "text/latex": [
       "$\\displaystyle \\left( \\left\\{ q_{1} : -4.71238897755986, \\  q_{2} : 10.99557428192\\right\\}, \\  7.98215849030092 \\cdot 10^{-7}, \\  39\\right)$"
      ],
      "text/plain": [
       "({q₁: -4.71238897755986, q₂: 10.99557428192}, 7.98215849030092e-7, 39)"
      ]
     },
     "execution_count": 105,
     "metadata": {},
     "output_type": "execute_result"
    }
   ],
   "source": [
    "gradient_descent(equations, [q1,q2], [0.1, 0.1])"
   ]
  },
  {
   "cell_type": "code",
   "execution_count": 44,
   "id": "be826868",
   "metadata": {},
   "outputs": [
    {
     "name": "stdout",
     "output_type": "stream",
     "text": [
      "Convergencia alcanzada en 41 iteraciones.\n",
      "Ángulos aproximados: θ1 = 0.000498283050741496, θ2 = 1.5711162473487181\n",
      "Error final: 9.176126640504216e-07\n"
     ]
    }
   ],
   "source": [
    "import sympy as sp\n",
    "\n",
    "# Variables simbólicas\n",
    "theta1, theta2 = sp.symbols('theta1 theta2')\n",
    "L1, L2 = 1.0, 1.0  # Longitudes de los eslabones (puedes cambiar estos valores)\n",
    "x_d, y_d = 1.0, 1.0  # Posición deseada del efector (puedes cambiar estos valores)\n",
    "\n",
    "# Expresiones de la posición del efector\n",
    "x = L1 * sp.cos(theta1) + L2 * sp.cos(theta1 + theta2)\n",
    "y = L1 * sp.sin(theta1) + L2 * sp.sin(theta1 + theta2)\n",
    "\n",
    "# Función de error\n",
    "error_function = (x - x_d)**2 + (y - y_d)**2\n",
    "\n",
    "# Gradiente de la función de error\n",
    "gradient_theta1 = sp.diff(error_function, theta1)\n",
    "gradient_theta2 = sp.diff(error_function, theta2)\n",
    "\n",
    "# Convertir a funciones lambda para evaluación numérica\n",
    "error_func = sp.lambdify([theta1, theta2], error_function, 'numpy')\n",
    "grad_theta1_func = sp.lambdify([theta1, theta2], gradient_theta1, 'numpy')\n",
    "grad_theta2_func = sp.lambdify([theta1, theta2], gradient_theta2, 'numpy')\n",
    "\n",
    "# Parámetros del algoritmo de gradiente descendente\n",
    "learning_rate = 0.35\n",
    "tolerance = 1e-6\n",
    "max_iterations = 1000\n",
    "\n",
    "# Punto inicial para los ángulos\n",
    "theta1_val, theta2_val = 0.1, 0.1  # Valores iniciales\n",
    "\n",
    "# Algoritmo de gradiente descendente\n",
    "for i in range(max_iterations):\n",
    "    # Calcular el gradiente en el punto actual\n",
    "    grad_theta1 = grad_theta1_func(theta1_val, theta2_val)\n",
    "    grad_theta2 = grad_theta2_func(theta1_val, theta2_val)\n",
    "    \n",
    "    # Actualizar los ángulos\n",
    "    theta1_val -= learning_rate * grad_theta1\n",
    "    theta2_val -= learning_rate * grad_theta2\n",
    "    \n",
    "    # Calcular el error\n",
    "    error = error_func(theta1_val, theta2_val)\n",
    "    \n",
    "    # Verificar convergencia\n",
    "    if error < tolerance:\n",
    "        print(f\"Convergencia alcanzada en {i+1} iteraciones.\")\n",
    "        break\n",
    "else:\n",
    "    print(\"No se alcanzó la convergencia.\")\n",
    "\n",
    "print(f\"Ángulos aproximados: θ1 = {theta1_val}, θ2 = {theta2_val}\")\n",
    "print(f\"Error final: {error}\")\n"
   ]
  },
  {
   "cell_type": "code",
   "execution_count": null,
   "id": "56f29879",
   "metadata": {},
   "outputs": [],
   "source": []
  }
 ],
 "metadata": {
  "kernelspec": {
   "display_name": "Python 3 (ipykernel)",
   "language": "python",
   "name": "python3"
  },
  "language_info": {
   "codemirror_mode": {
    "name": "ipython",
    "version": 3
   },
   "file_extension": ".py",
   "mimetype": "text/x-python",
   "name": "python",
   "nbconvert_exporter": "python",
   "pygments_lexer": "ipython3",
   "version": "3.9.12"
  }
 },
 "nbformat": 4,
 "nbformat_minor": 5
}
