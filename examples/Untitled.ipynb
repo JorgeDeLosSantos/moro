{
 "cells": [
  {
   "cell_type": "code",
   "execution_count": 1,
   "id": "f49f92f6",
   "metadata": {},
   "outputs": [],
   "source": [
    "from moro import *\n",
    "from sympy import lambdify\n",
    "from numpy import pi\n",
    "from scipy.optimize import least_squares\n",
    "import numpy as np"
   ]
  },
  {
   "cell_type": "code",
   "execution_count": 10,
   "id": "e93b293f",
   "metadata": {},
   "outputs": [],
   "source": [
    "RR = Robot((200,0,0,q1), (200,0,0,q2))"
   ]
  },
  {
   "cell_type": "code",
   "execution_count": 11,
   "id": "d80d56fa",
   "metadata": {},
   "outputs": [
    {
     "data": {
      "text/plain": [
       " active_mask: array([0, 0])\n",
       "        cost: 0.0\n",
       "         fun: array([0., 0., 0.])\n",
       "        grad: array([0., 0.])\n",
       "         jac: array([[-2.00000001e+02,  2.42851171e-06],\n",
       "       [ 1.99999998e+02,  2.00000000e+02],\n",
       "       [ 0.00000000e+00, -0.00000000e+00]])\n",
       "     message: '`gtol` termination condition is satisfied.'\n",
       "        nfev: 6\n",
       "        njev: 6\n",
       "  optimality: 0.0\n",
       "      status: 1\n",
       "     success: True\n",
       "           x: array([ 1.57079633, -1.57079633])"
      ]
     },
     "execution_count": 11,
     "metadata": {},
     "output_type": "execute_result"
    }
   ],
   "source": [
    "RR.solve_inverse_kinematics(Matrix([200,200,0]))"
   ]
  },
  {
   "cell_type": "code",
   "execution_count": 32,
   "id": "67e18586",
   "metadata": {},
   "outputs": [
    {
     "data": {
      "image/png": "[encoded data removed]",
      "text/latex": [
       "$\\displaystyle \\left[\\begin{matrix}200 \\cos{\\left(q_{1} + q_{2} \\right)} + 200 \\cos{\\left(q_{1} \\right)}\\\\200 \\sin{\\left(q_{1} + q_{2} \\right)} + 200 \\sin{\\left(q_{1} \\right)}\\end{matrix}\\right]$"
      ],
      "text/plain": [
       "⎡200⋅cos(q₁ + q₂) + 200⋅cos(q₁)⎤\n",
       "⎢                              ⎥\n",
       "⎣200⋅sin(q₁ + q₂) + 200⋅sin(q₁)⎦"
      ]
     },
     "execution_count": 32,
     "metadata": {},
     "output_type": "execute_result"
    }
   ],
   "source": [
    "eqs = RR.T[:2,3]\n",
    "des_pos = Matrix([200,200])\n",
    "eqs"
   ]
  },
  {
   "cell_type": "code",
   "execution_count": 53,
   "id": "d11c71d1",
   "metadata": {},
   "outputs": [],
   "source": [
    "f = lambdify((q1,q2), eqs - des_pos, \"numpy\")"
   ]
  },
  {
   "cell_type": "code",
   "execution_count": 66,
   "id": "f6b4f0db",
   "metadata": {},
   "outputs": [],
   "source": [
    "def ff(x):\n",
    "    return f(*tuple(x)).flatten()"
   ]
  },
  {
   "cell_type": "code",
   "execution_count": 67,
   "id": "0fa6646a",
   "metadata": {},
   "outputs": [],
   "source": [
    "sol = least_squares(ff, (0.1,-0.1), bounds=([-np.inf,-np.inf],[np.inf,0]))"
   ]
  },
  {
   "cell_type": "code",
   "execution_count": 69,
   "id": "4b93a940",
   "metadata": {},
   "outputs": [
    {
     "data": {
      "text/plain": [
       "array([ 1.57079633, -1.57079633])"
      ]
     },
     "execution_count": 69,
     "metadata": {},
     "output_type": "execute_result"
    }
   ],
   "source": [
    "sol.x"
   ]
  },
  {
   "cell_type": "code",
   "execution_count": 70,
   "id": "0948a92e",
   "metadata": {},
   "outputs": [],
   "source": [
    "a = [(0,1), (1,2), (4,5)]"
   ]
  },
  {
   "cell_type": "code",
   "execution_count": 74,
   "id": "19808901",
   "metadata": {},
   "outputs": [
    {
     "data": {
      "image/png": "[encoded data removed]",
      "text/latex": [
       "$\\displaystyle \\left[ \\left( 0, \\  1, \\  4\\right), \\  \\left( 1, \\  2, \\  5\\right)\\right]$"
      ],
      "text/plain": [
       "[(0, 1, 4), (1, 2, 5)]"
      ]
     },
     "execution_count": 74,
     "metadata": {},
     "output_type": "execute_result"
    }
   ],
   "source": [
    "list(  zip(*a) )"
   ]
  },
  {
   "cell_type": "code",
   "execution_count": 75,
   "id": "55bbbfd8",
   "metadata": {},
   "outputs": [
    {
     "data": {
      "text/plain": [
       "<moro.core.Robot at 0x1a1ba6e3a60>"
      ]
     },
     "execution_count": 75,
     "metadata": {},
     "output_type": "execute_result"
    }
   ],
   "source": [
    "RR"
   ]
  },
  {
   "cell_type": "code",
   "execution_count": null,
   "id": "7ead375e",
   "metadata": {},
   "outputs": [],
   "source": []
  }
 ],
 "metadata": {
  "kernelspec": {
   "display_name": "Python 3 (ipykernel)",
   "language": "python",
   "name": "python3"
  },
  "language_info": {
   "codemirror_mode": {
    "name": "ipython",
    "version": 3
   },
   "file_extension": ".py",
   "mimetype": "text/x-python",
   "name": "python",
   "nbconvert_exporter": "python",
   "pygments_lexer": "ipython3",
   "version": "3.9.12"
  }
 },
 "nbformat": 4,
 "nbformat_minor": 5
}
