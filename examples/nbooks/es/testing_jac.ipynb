{
 "cells": [
  {
   "cell_type": "code",
   "execution_count": 1,
   "metadata": {},
   "outputs": [
    {
     "name": "stderr",
     "output_type": "stream",
     "text": [
      "g:\\mi unidad\\numython-rd\\proyectos\\moro\\moro\\moro\\core.py:56: SyntaxWarning: \"is\" with a literal. Did you mean \"==\"?\n",
      "  if self.joint_types[-1] is \"r\":\n"
     ]
    }
   ],
   "source": [
    "from moro import *"
   ]
  },
  {
   "cell_type": "code",
   "execution_count": 2,
   "metadata": {},
   "outputs": [],
   "source": [
    "RR = Robot((l1,0,0,q1), (l2,0,0,q2))"
   ]
  },
  {
   "cell_type": "code",
   "execution_count": 3,
   "metadata": {},
   "outputs": [],
   "source": [
    "RR.set_cm_locations([[-(l1-lc1),0,0], [-(l2-lc2),0,0]])"
   ]
  },
  {
   "cell_type": "code",
   "execution_count": 4,
   "metadata": {},
   "outputs": [
    {
     "data": {
      "image/png": "[encoded data removed]",
      "text/latex": [
       "$\\displaystyle \\left[\\begin{matrix}- l_{c1} \\sin{\\left(q_{1} \\right)} & 0\\\\l_{c1} \\cos{\\left(q_{1} \\right)} & 0\\\\0 & 0\\end{matrix}\\right]$"
      ],
      "text/plain": [
       "⎡-l_c1⋅sin(q₁)  0⎤\n",
       "⎢                ⎥\n",
       "⎢l_c1⋅cos(q₁)   0⎥\n",
       "⎢                ⎥\n",
       "⎣      0        0⎦"
      ]
     },
     "execution_count": 4,
     "metadata": {},
     "output_type": "execute_result"
    }
   ],
   "source": [
    "RR.Jv_cm_i(1)"
   ]
  },
  {
   "cell_type": "code",
   "execution_count": 5,
   "metadata": {},
   "outputs": [
    {
     "data": {
      "image/png": "[encoded data removed]",
      "text/latex": [
       "$\\displaystyle \\left[\\begin{matrix}- l_{1} \\sin{\\left(q_{1} \\right)} - l_{c2} \\sin{\\left(q_{1} + q_{2} \\right)} & - l_{c2} \\sin{\\left(q_{1} + q_{2} \\right)}\\\\l_{1} \\cos{\\left(q_{1} \\right)} + l_{c2} \\cos{\\left(q_{1} + q_{2} \\right)} & l_{c2} \\cos{\\left(q_{1} + q_{2} \\right)}\\\\0 & 0\\end{matrix}\\right]$"
      ],
      "text/plain": [
       "⎡-l₁⋅sin(q₁) - l_c2⋅sin(q₁ + q₂)  -l_c2⋅sin(q₁ + q₂)⎤\n",
       "⎢                                                   ⎥\n",
       "⎢l₁⋅cos(q₁) + l_c2⋅cos(q₁ + q₂)   l_c2⋅cos(q₁ + q₂) ⎥\n",
       "⎢                                                   ⎥\n",
       "⎣               0                         0         ⎦"
      ]
     },
     "execution_count": 5,
     "metadata": {},
     "output_type": "execute_result"
    }
   ],
   "source": [
    "RR.Jv_cm_i(2)"
   ]
  },
  {
   "cell_type": "code",
   "execution_count": 8,
   "metadata": {},
   "outputs": [
    {
     "data": {
      "image/png": "[encoded data removed]",
      "text/latex": [
       "$\\displaystyle \\left[\\begin{matrix}- l_{1} \\sin{\\left(q_{1} \\right)} - l_{c2} \\sin{\\left(q_{1} + q_{2} \\right)} & - l_{c2} \\sin{\\left(q_{1} + q_{2} \\right)}\\\\l_{1} \\cos{\\left(q_{1} \\right)} + l_{c2} \\cos{\\left(q_{1} + q_{2} \\right)} & l_{c2} \\cos{\\left(q_{1} + q_{2} \\right)}\\\\0 & 0\\\\0 & 0\\\\0 & 0\\\\1 & 1\\end{matrix}\\right]$"
      ],
      "text/plain": [
       "⎡-l₁⋅sin(q₁) - l_c2⋅sin(q₁ + q₂)  -l_c2⋅sin(q₁ + q₂)⎤\n",
       "⎢                                                   ⎥\n",
       "⎢l₁⋅cos(q₁) + l_c2⋅cos(q₁ + q₂)   l_c2⋅cos(q₁ + q₂) ⎥\n",
       "⎢                                                   ⎥\n",
       "⎢               0                         0         ⎥\n",
       "⎢                                                   ⎥\n",
       "⎢               0                         0         ⎥\n",
       "⎢                                                   ⎥\n",
       "⎢               0                         0         ⎥\n",
       "⎢                                                   ⎥\n",
       "⎣               1                         1         ⎦"
      ]
     },
     "execution_count": 8,
     "metadata": {},
     "output_type": "execute_result"
    }
   ],
   "source": [
    "RR.J_point([-(l2-lc2),0,0], 2)"
   ]
  },
  {
   "cell_type": "code",
   "execution_count": 9,
   "metadata": {},
   "outputs": [],
   "source": [
    "PR = Robot((0,pi/2,q1,pi,\"p\"), (l2,0,0,q2,\"r\"))"
   ]
  },
  {
   "cell_type": "code",
   "execution_count": 10,
   "metadata": {},
   "outputs": [],
   "source": [
    "PR.set_cm_locations([[0,0,0], [-(l2-lc2),0,0]])"
   ]
  },
  {
   "cell_type": "code",
   "execution_count": 11,
   "metadata": {},
   "outputs": [
    {
     "data": {
      "image/png": "[encoded data removed]",
      "text/latex": [
       "$\\displaystyle \\left( \\left[\\begin{matrix}0 & l_{c2} \\sin{\\left(q_{2} \\right)}\\\\0 & 0\\\\1 & l_{c2} \\cos{\\left(q_{2} \\right)}\\end{matrix}\\right], \\  \\left[\\begin{matrix}0 & 0\\\\0 & 1\\\\0 & 0\\end{matrix}\\right]\\right)$"
      ],
      "text/plain": [
       "⎛⎡0  l_c2⋅sin(q₂)⎤  ⎡0  0⎤⎞\n",
       "⎜⎢               ⎥  ⎢    ⎥⎟\n",
       "⎜⎢0       0      ⎥, ⎢0  1⎥⎟\n",
       "⎜⎢               ⎥  ⎢    ⎥⎟\n",
       "⎝⎣1  l_c2⋅cos(q₂)⎦  ⎣0  0⎦⎠"
      ]
     },
     "execution_count": 11,
     "metadata": {},
     "output_type": "execute_result"
    }
   ],
   "source": [
    "PR.Jv_cm_i(2), PR.Jw_cm_i(2)"
   ]
  },
  {
   "cell_type": "code",
   "execution_count": 16,
   "metadata": {},
   "outputs": [
    {
     "data": {
      "image/png": "[encoded data removed]",
      "text/latex": [
       "$\\displaystyle \\left[\\begin{matrix}0 & \\left(l_{2} - 100\\right) \\sin{\\left(q_{2} \\right)}\\\\0 & 0\\\\1 & \\left(l_{2} - 100\\right) \\cos{\\left(q_{2} \\right)}\\\\0 & 0\\\\0 & 1\\\\0 & 0\\end{matrix}\\right]$"
      ],
      "text/plain": [
       "⎡0  (l₂ - 100)⋅sin(q₂)⎤\n",
       "⎢                     ⎥\n",
       "⎢0          0         ⎥\n",
       "⎢                     ⎥\n",
       "⎢1  (l₂ - 100)⋅cos(q₂)⎥\n",
       "⎢                     ⎥\n",
       "⎢0          0         ⎥\n",
       "⎢                     ⎥\n",
       "⎢0          1         ⎥\n",
       "⎢                     ⎥\n",
       "⎣0          0         ⎦"
      ]
     },
     "execution_count": 16,
     "metadata": {},
     "output_type": "execute_result"
    }
   ],
   "source": [
    "PR.J_point([-100,0,0], 2)"
   ]
  },
  {
   "cell_type": "code",
   "execution_count": null,
   "metadata": {},
   "outputs": [],
   "source": []
  }
 ],
 "metadata": {
  "kernelspec": {
   "display_name": "base",
   "language": "python",
   "name": "python3"
  },
  "language_info": {
   "codemirror_mode": {
    "name": "ipython",
    "version": 3
   },
   "file_extension": ".py",
   "mimetype": "text/x-python",
   "name": "python",
   "nbconvert_exporter": "python",
   "pygments_lexer": "ipython3",
   "version": "3.9.7"
  }
 },
 "nbformat": 4,
 "nbformat_minor": 2
}
