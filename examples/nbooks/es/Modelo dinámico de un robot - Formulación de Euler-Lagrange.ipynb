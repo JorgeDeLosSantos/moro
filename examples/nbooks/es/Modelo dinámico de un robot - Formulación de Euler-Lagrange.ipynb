{
 "cells": [
  {
   "cell_type": "markdown",
   "id": "bdd59002",
   "metadata": {},
   "source": [
    "# Modelo dinámico de un manipulador RR"
   ]
  },
  {
   "cell_type": "code",
   "execution_count": 2,
   "id": "f52a5522",
   "metadata": {},
   "outputs": [],
   "source": [
    "from moro import *"
   ]
  },
  {
   "cell_type": "code",
   "execution_count": 3,
   "id": "7d393748",
   "metadata": {},
   "outputs": [],
   "source": [
    "RR = Robot((l1,0,0,q1), (l2,0,0,q2))"
   ]
  },
  {
   "cell_type": "code",
   "execution_count": 10,
   "id": "32b9a33c",
   "metadata": {},
   "outputs": [],
   "source": [
    "RR.set_cm_locations([(-(l1-lc1),0,0), (-(l2-lc2),0,0)])\n",
    "RR.set_gravity_vector([0,-g,0])\n",
    "RR.set_inertia_tensors()\n",
    "RR.set_masses([m1,m2])"
   ]
  },
  {
   "cell_type": "code",
   "execution_count": 11,
   "id": "82d7894a",
   "metadata": {},
   "outputs": [
    {
     "data": {
      "image/png": "[encoded data removed]",
      "text/latex": [
       "$\\displaystyle \\left[\\begin{matrix}0.5 I_{zz1} \\dot{q}_{1}^{2} + 0.5 l_{c1}^{2} m_{1} \\sin^{2}{\\left(q_{1} \\right)} \\dot{q}_{1}^{2} + 0.5 l_{c1}^{2} m_{1} \\cos^{2}{\\left(q_{1} \\right)} \\dot{q}_{1}^{2}\\end{matrix}\\right]$"
      ],
      "text/plain": [
       "⎡              2           2       2       2           2       2       2⎤\n",
       "⎣0.5⋅I_{zz1}⋅q₁̇  + 0.5⋅l_c1 ⋅m₁⋅sin (q₁)⋅q₁̇  + 0.5⋅l_c1 ⋅m₁⋅cos (q₁)⋅q₁̇ ⎦"
      ]
     },
     "execution_count": 11,
     "metadata": {},
     "output_type": "execute_result"
    }
   ],
   "source": [
    "RR.kin_i(1)"
   ]
  },
  {
   "cell_type": "code",
   "execution_count": 12,
   "id": "c16a4eeb",
   "metadata": {},
   "outputs": [
    {
     "data": {
      "image/png": "[encoded data removed]",
      "text/latex": [
       "$\\displaystyle \\left[\\begin{matrix}I_{zz2} \\cdot \\left(0.5 \\dot{q}_{1} + 0.5 \\dot{q}_{2}\\right) \\left(\\dot{q}_{1} + \\dot{q}_{2}\\right) + 0.5 m_{2} \\left(- l_{1} \\sin{\\left(q_{1} \\right)} \\dot{q}_{1} - l_{c2} \\left(\\dot{q}_{1} + \\dot{q}_{2}\\right) \\sin{\\left(q_{1} + q_{2} \\right)}\\right)^{2} + 0.5 m_{2} \\left(l_{1} \\cos{\\left(q_{1} \\right)} \\dot{q}_{1} + l_{c2} \\left(\\dot{q}_{1} + \\dot{q}_{2}\\right) \\cos{\\left(q_{1} + q_{2} \\right)}\\right)^{2}\\end{matrix}\\right]$"
      ],
      "text/plain": [
       "⎡                                                                             \n",
       "⎣I_{zz2}⋅(0.5⋅q₁̇ + 0.5⋅q₂̇)⋅(q₁̇ + q₂̇) + 0.5⋅m₂⋅(-l₁⋅sin(q₁)⋅q₁̇ - l_c2⋅(q₁̇\n",
       "\n",
       "              2                                                       2⎤\n",
       " + q₂̇)⋅sin(q₁ + q₂))  + 0.5⋅m₂⋅(l₁⋅cos(q₁)⋅q₁̇ + l_c2⋅(q₁̇ + q₂̇)⋅cos(q₁ + q₂"
      ]
     },
     "execution_count": 12,
     "metadata": {},
     "output_type": "execute_result"
    }
   ],
   "source": [
    "RR.kin_i(2)"
   ]
  },
  {
   "cell_type": "code",
   "execution_count": 13,
   "id": "87ef6dd6",
   "metadata": {},
   "outputs": [
    {
     "data": {
      "image/png": "[encoded data removed]",
      "text/latex": [
       "$\\displaystyle \\left[\\begin{matrix}g l_{c1} m_{1} \\sin{\\left(q_{1} \\right)}\\end{matrix}\\right]$"
      ],
      "text/plain": [
       "[g⋅l_c1⋅m₁⋅sin(q₁)]"
      ]
     },
     "execution_count": 13,
     "metadata": {},
     "output_type": "execute_result"
    }
   ],
   "source": [
    "RR.pot_i(1)"
   ]
  },
  {
   "cell_type": "code",
   "execution_count": 14,
   "id": "1fb0f791",
   "metadata": {},
   "outputs": [
    {
     "data": {
      "image/png": "[encoded data removed]",
      "text/latex": [
       "$\\displaystyle \\left[\\begin{matrix}g m_{2} \\left(l_{1} \\sin{\\left(q_{1} \\right)} + l_{c2} \\sin{\\left(q_{1} + q_{2} \\right)}\\right)\\end{matrix}\\right]$"
      ],
      "text/plain": [
       "[g⋅m₂⋅(l₁⋅sin(q₁) + l_c2⋅sin(q₁ + q₂))]"
      ]
     },
     "execution_count": 14,
     "metadata": {},
     "output_type": "execute_result"
    }
   ],
   "source": [
    "RR.pot_i(2)"
   ]
  },
  {
   "cell_type": "code",
   "execution_count": 15,
   "id": "817d8739",
   "metadata": {},
   "outputs": [
    {
     "data": {
      "image/png": "[encoded data removed]",
      "text/latex": [
       "$\\displaystyle \\left[ I_{zz1} \\ddot{q}_{1} + I_{zz2} \\ddot{q}_{1} + I_{zz2} \\ddot{q}_{2} + g l_{1} m_{2} \\cos{\\left(q_{1} \\right)} + g l_{c1} m_{1} \\cos{\\left(q_{1} \\right)} + g l_{c2} m_{2} \\cos{\\left(q_{1} + q_{2} \\right)} + l_{1}^{2} m_{2} \\ddot{q}_{1} - 2 l_{1} l_{c2} m_{2} \\sin{\\left(q_{2} \\right)} \\dot{q}_{1} \\dot{q}_{2} - l_{1} l_{c2} m_{2} \\sin{\\left(q_{2} \\right)} \\dot{q}_{2}^{2} + 2 l_{1} l_{c2} m_{2} \\cos{\\left(q_{2} \\right)} \\ddot{q}_{1} + l_{1} l_{c2} m_{2} \\cos{\\left(q_{2} \\right)} \\ddot{q}_{2} + l_{c1}^{2} m_{1} \\ddot{q}_{1} + l_{c2}^{2} m_{2} \\ddot{q}_{1} + l_{c2}^{2} m_{2} \\ddot{q}_{2} = \\tau_{1}, \\  I_{zz2} \\ddot{q}_{1} + I_{zz2} \\ddot{q}_{2} + g l_{c2} m_{2} \\cos{\\left(q_{1} + q_{2} \\right)} + l_{1} l_{c2} m_{2} \\sin{\\left(q_{2} \\right)} \\dot{q}_{1}^{2} + l_{1} l_{c2} m_{2} \\cos{\\left(q_{2} \\right)} \\ddot{q}_{1} + l_{c2}^{2} m_{2} \\ddot{q}_{1} + l_{c2}^{2} m_{2} \\ddot{q}_{2} = \\tau_{2}\\right]$"
      ],
      "text/plain": [
       "⎡                                                                             \n",
       "⎣I_{zz1}⋅q₁̈ + I_{zz2}⋅q₁̈ + I_{zz2}⋅q₂̈ + g⋅l₁⋅m₂⋅cos(q₁) + g⋅l_c1⋅m₁⋅cos(q₁)\n",
       "\n",
       "                           2                                                  \n",
       " + g⋅l_c2⋅m₂⋅cos(q₁ + q₂) + l₁ ⋅m₂⋅q₁̈ - 2⋅l₁⋅l_c2⋅m₂⋅sin(q₂)⋅q₁̇⋅q₂̇ - l₁⋅l_c\n",
       "\n",
       "         2                                                         2          \n",
       "2⋅m₂⋅sin(q₂)⋅q₂̇  + 2⋅l₁⋅l_c2⋅m₂⋅cos(q₂)⋅q₁̈ + l₁⋅l_c2⋅m₂⋅cos(q₂)⋅q₂̈ + l_c1 ⋅\n",
       "\n",
       "   2             2                                                            \n",
       "m₁⋅q₁̈ + l_c2 ⋅m₂⋅q₁̈ + l_c2 ⋅m₂⋅q₂̈ = τ₁, I_{zz2}⋅q₁̈ + I_{zz2}⋅q₂̈ + g⋅l_c2⋅\n",
       "\n",
       "                         2                               2             2      \n",
       "m₂⋅cos(q₁ + q₂) + l₁⋅l_c2⋅m₂⋅sin(q₂)⋅q₁̇  + l₁⋅l_c2⋅m₂⋅cos(q₂)⋅q₁̈ + l_c2 ⋅m₂⋅\n",
       "\n",
       "     ⎤\n",
       "q₁̈ + l_c2 ⋅m₂⋅q₂̈ = τ₂⎦"
      ]
     },
     "execution_count": 15,
     "metadata": {},
     "output_type": "execute_result"
    }
   ],
   "source": [
    "RR.get_dynamic_model()"
   ]
  },
  {
   "cell_type": "code",
   "execution_count": null,
   "id": "7de175a6",
   "metadata": {},
   "outputs": [],
   "source": []
  }
 ],
 "metadata": {
  "kernelspec": {
   "display_name": "Python 3 (ipykernel)",
   "language": "python",
   "name": "python3"
  },
  "language_info": {
   "codemirror_mode": {
    "name": "ipython",
    "version": 3
   },
   "file_extension": ".py",
   "mimetype": "text/x-python",
   "name": "python",
   "nbconvert_exporter": "python",
   "pygments_lexer": "ipython3",
   "version": "3.9.7"
  }
 },
 "nbformat": 4,
 "nbformat_minor": 5
}
