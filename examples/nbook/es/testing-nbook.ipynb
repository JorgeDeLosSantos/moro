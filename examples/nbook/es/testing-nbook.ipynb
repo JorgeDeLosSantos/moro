{
 "cells": [
  {
   "cell_type": "code",
   "execution_count": 1,
   "metadata": {},
   "outputs": [],
   "source": [
    "from moro import *"
   ]
  },
  {
   "cell_type": "code",
   "execution_count": 2,
   "metadata": {},
   "outputs": [],
   "source": [
    "r = Robot((l1,0,0,t1,\"r\"), (l2,0,0,t2,\"r\"))"
   ]
  },
  {
   "cell_type": "code",
   "execution_count": 3,
   "metadata": {},
   "outputs": [
    {
     "data": {
      "image/png": "[encoded data removed]",
      "text/latex": [
       "$\\displaystyle \\left[\\begin{matrix}- l_{1} \\operatorname{sin}\\left(\\theta_1\\right) - l_{2} \\operatorname{sin}\\left(\\theta_1 + \\theta_2\\right) & - l_{2} \\operatorname{sin}\\left(\\theta_1 + \\theta_2\\right)\\\\l_{1} \\operatorname{cos}\\left(\\theta_1\\right) + l_{2} \\operatorname{cos}\\left(\\theta_1 + \\theta_2\\right) & l_{2} \\operatorname{cos}\\left(\\theta_1 + \\theta_2\\right)\\\\0 & 0\\\\0 & 0\\\\0 & 0\\\\1 & 1\\end{matrix}\\right]$"
      ],
      "text/plain": [
       "⎡-l₁⋅sin(\\theta₁) - l₂⋅sin(\\theta₁ + \\theta₂)  -l₂⋅sin(\\theta₁ + \\theta₂)⎤\n",
       "⎢                                                                        ⎥\n",
       "⎢l₁⋅cos(\\theta₁) + l₂⋅cos(\\theta₁ + \\theta₂)   l₂⋅cos(\\theta₁ + \\theta₂) ⎥\n",
       "⎢                                                                        ⎥\n",
       "⎢                     0                                    0             ⎥\n",
       "⎢                                                                        ⎥\n",
       "⎢                     0                                    0             ⎥\n",
       "⎢                                                                        ⎥\n",
       "⎢                     0                                    0             ⎥\n",
       "⎢                                                                        ⎥\n",
       "⎣                     1                                    1             ⎦"
      ]
     },
     "execution_count": 3,
     "metadata": {},
     "output_type": "execute_result"
    }
   ],
   "source": [
    "r.J"
   ]
  },
  {
   "cell_type": "code",
   "execution_count": null,
   "metadata": {},
   "outputs": [],
   "source": []
  }
 ],
 "metadata": {
  "kernelspec": {
   "display_name": "Python 3",
   "language": "python",
   "name": "python3"
  },
  "language_info": {
   "codemirror_mode": {
    "name": "ipython",
    "version": 3
   },
   "file_extension": ".py",
   "mimetype": "text/x-python",
   "name": "python",
   "nbconvert_exporter": "python",
   "pygments_lexer": "ipython3",
   "version": "3.6.5"
  }
 },
 "nbformat": 4,
 "nbformat_minor": 2
}
