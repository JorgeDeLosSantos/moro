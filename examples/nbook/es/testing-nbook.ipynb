{
 "cells": [
  {
   "cell_type": "code",
   "execution_count": 1,
   "metadata": {},
   "outputs": [],
   "source": [
    "from moro import *"
   ]
  },
  {
   "cell_type": "code",
   "execution_count": 2,
   "metadata": {},
   "outputs": [],
   "source": [
    "r = Robot((l1,0,0,t1,\"r\"), (l2,0,0,t2,\"r\"))"
   ]
  },
  {
   "cell_type": "code",
   "execution_count": 3,
   "metadata": {},
   "outputs": [
    {
     "name": "stdout",
     "output_type": "stream",
     "text": [
      "1 2 0 Matrix([[0], [0], [1]]) Matrix([[l_1*cos(\\theta_1) + l_2*cos(\\theta_1 + \\theta_2)], [l_1*sin(\\theta_1) + l_2*sin(\\theta_1 + \\theta_2)], [0]])\n",
      "2 2 1 Matrix([[0], [0], [1]]) Matrix([[l_1*cos(\\theta_1) + l_2*cos(\\theta_1 + \\theta_2)], [l_1*sin(\\theta_1) + l_2*sin(\\theta_1 + \\theta_2)], [0]])\n"
     ]
    },
    {
     "data": {
      "image/png": "[encoded data removed]",
      "text/latex": [
       "$\\displaystyle \\left[\\begin{matrix}- l_{2} \\operatorname{sin}\\left(\\theta_1 + \\theta_2\\right) & 0\\\\l_{2} \\operatorname{cos}\\left(\\theta_1 + \\theta_2\\right) & 0\\\\0 & 0\\\\0 & 0\\\\0 & 0\\\\1 & 1\\end{matrix}\\right]$"
      ],
      "text/plain": [
       "⎡-l₂⋅sin(\\theta₁ + \\theta₂)  0⎤\n",
       "⎢                             ⎥\n",
       "⎢l₂⋅cos(\\theta₁ + \\theta₂)   0⎥\n",
       "⎢                             ⎥\n",
       "⎢            0               0⎥\n",
       "⎢                             ⎥\n",
       "⎢            0               0⎥\n",
       "⎢                             ⎥\n",
       "⎢            0               0⎥\n",
       "⎢                             ⎥\n",
       "⎣            1               1⎦"
      ]
     },
     "execution_count": 3,
     "metadata": {},
     "output_type": "execute_result"
    }
   ],
   "source": [
    "r.J"
   ]
  },
  {
   "cell_type": "code",
   "execution_count": null,
   "metadata": {},
   "outputs": [],
   "source": []
  }
 ],
 "metadata": {
  "kernelspec": {
   "display_name": "Python 3",
   "language": "python",
   "name": "python3"
  },
  "language_info": {
   "codemirror_mode": {
    "name": "ipython",
    "version": 3
   },
   "file_extension": ".py",
   "mimetype": "text/x-python",
   "name": "python",
   "nbconvert_exporter": "python",
   "pygments_lexer": "ipython3",
   "version": "3.6.5"
  }
 },
 "nbformat": 4,
 "nbformat_minor": 2
}
