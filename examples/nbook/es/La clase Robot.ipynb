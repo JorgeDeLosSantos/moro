{
 "cells": [
  {
   "cell_type": "markdown",
   "metadata": {},
   "source": [
    "# La clase `Robot`\n",
    "\n",
    "La clase `Robot` es una clase que forma parte del `core` de `moro`, con esta se define un manipulador serial utilizando sus parámetros de Denavit-Hartenberg.\n",
    "\n",
    "La sintaxis básica de `Robot` es:\n",
    "\n",
    "```python\n",
    "r = Robot(DH1, DH2, ..., DHN)\n",
    "```\n",
    "\n",
    "Donde `DH1`, `DH2`, ..., `DHN` son tuplas de la forma:\n",
    "\n",
    "```python\n",
    "(a_i, alpha_i, d_i, theta_i)\n",
    "``` "
   ]
  },
  {
   "cell_type": "markdown",
   "metadata": {},
   "source": [
    "Antes de comenzar con el ejemplo, vamos a importar la librería:"
   ]
  },
  {
   "cell_type": "code",
   "execution_count": 1,
   "metadata": {},
   "outputs": [],
   "source": [
    "from moro import *"
   ]
  },
  {
   "cell_type": "markdown",
   "metadata": {},
   "source": [
    "## Ejemplo. Manipulador RR\n",
    "\n",
    "En la figura se muestra un manipulador RR y su tabla de parámetros DH. \n",
    "\n",
    "<img src=\"img/rr_robot_dh.svg\">\n",
    "\n",
    "Para definirlo se hace lo siguiente:"
   ]
  },
  {
   "cell_type": "code",
   "execution_count": 2,
   "metadata": {},
   "outputs": [
    {
     "data": {
      "text/plain": [
       "<moro.core.Robot at 0x1f3779c50f0>"
      ]
     },
     "execution_count": 2,
     "metadata": {},
     "output_type": "execute_result"
    }
   ],
   "source": [
    "rr = Robot((l1,0,0,t1), (l2,0,0,t2))\n",
    "rr"
   ]
  },
  {
   "cell_type": "markdown",
   "metadata": {},
   "source": [
    "Para calcular la matriz $ T_n^0 $ se debe acceder a la propiedad `T`:"
   ]
  },
  {
   "cell_type": "code",
   "execution_count": 3,
   "metadata": {},
   "outputs": [
    {
     "data": {
      "image/png": "[encoded data removed]",
      "text/latex": [
       "$\\displaystyle \\left[\\begin{matrix}\\operatorname{cos}\\left(\\theta_1 + \\theta_2\\right) & - \\operatorname{sin}\\left(\\theta_1 + \\theta_2\\right) & 0 & l_{1} \\operatorname{cos}\\left(\\theta_1\\right) + l_{2} \\operatorname{cos}\\left(\\theta_1 + \\theta_2\\right)\\\\\\operatorname{sin}\\left(\\theta_1 + \\theta_2\\right) & \\operatorname{cos}\\left(\\theta_1 + \\theta_2\\right) & 0 & l_{1} \\operatorname{sin}\\left(\\theta_1\\right) + l_{2} \\operatorname{sin}\\left(\\theta_1 + \\theta_2\\right)\\\\0 & 0 & 1 & 0\\\\0 & 0 & 0 & 1\\end{matrix}\\right]$"
      ],
      "text/plain": [
       "⎡cos(\\theta₁ + \\theta₂)  -sin(\\theta₁ + \\theta₂)  0  l₁⋅cos(\\theta₁) + l₂⋅cos(\n",
       "⎢                                                                             \n",
       "⎢sin(\\theta₁ + \\theta₂)  cos(\\theta₁ + \\theta₂)   0  l₁⋅sin(\\theta₁) + l₂⋅sin(\n",
       "⎢                                                                             \n",
       "⎢          0                        0             1                       0   \n",
       "⎢                                                                             \n",
       "⎣          0                        0             0                       1   \n",
       "\n",
       "\\theta₁ + \\theta₂)⎤\n",
       "                  ⎥\n",
       "\\theta₁ + \\theta₂)⎥\n",
       "                  ⎥\n",
       "                  ⎥\n",
       "                  ⎥\n",
       "                  ⎦"
      ]
     },
     "execution_count": 3,
     "metadata": {},
     "output_type": "execute_result"
    }
   ],
   "source": [
    "rr.T"
   ]
  },
  {
   "cell_type": "markdown",
   "metadata": {},
   "source": [
    "Una lista de las matrices $ A_i $ o $ T_i^{i-1} $ se puede obtener mediante la propiedad `Ts`:"
   ]
  },
  {
   "cell_type": "code",
   "execution_count": 4,
   "metadata": {},
   "outputs": [
    {
     "data": {
      "image/png": "[encoded data removed]",
      "text/latex": [
       "$\\displaystyle \\left[ \\left[\\begin{matrix}\\operatorname{cos}\\left(\\theta_1\\right) & - \\operatorname{sin}\\left(\\theta_1\\right) & 0 & l_{1} \\operatorname{cos}\\left(\\theta_1\\right)\\\\\\operatorname{sin}\\left(\\theta_1\\right) & \\operatorname{cos}\\left(\\theta_1\\right) & 0 & l_{1} \\operatorname{sin}\\left(\\theta_1\\right)\\\\0 & 0 & 1 & 0\\\\0 & 0 & 0 & 1\\end{matrix}\\right], \\  \\left[\\begin{matrix}\\operatorname{cos}\\left(\\theta_2\\right) & - \\operatorname{sin}\\left(\\theta_2\\right) & 0 & l_{2} \\operatorname{cos}\\left(\\theta_2\\right)\\\\\\operatorname{sin}\\left(\\theta_2\\right) & \\operatorname{cos}\\left(\\theta_2\\right) & 0 & l_{2} \\operatorname{sin}\\left(\\theta_2\\right)\\\\0 & 0 & 1 & 0\\\\0 & 0 & 0 & 1\\end{matrix}\\right]\\right]$"
      ],
      "text/plain": [
       "⎡⎡cos(\\theta₁)  -sin(\\theta₁)  0  l₁⋅cos(\\theta₁)⎤  ⎡cos(\\theta₂)  -sin(\\theta\n",
       "⎢⎢                                               ⎥  ⎢                         \n",
       "⎢⎢sin(\\theta₁)  cos(\\theta₁)   0  l₁⋅sin(\\theta₁)⎥  ⎢sin(\\theta₂)  cos(\\theta₂\n",
       "⎢⎢                                               ⎥, ⎢                         \n",
       "⎢⎢     0              0        1         0       ⎥  ⎢     0              0    \n",
       "⎢⎢                                               ⎥  ⎢                         \n",
       "⎣⎣     0              0        0         1       ⎦  ⎣     0              0    \n",
       "\n",
       "₂)  0  l₂⋅cos(\\theta₂)⎤⎤\n",
       "                      ⎥⎥\n",
       ")   0  l₂⋅sin(\\theta₂)⎥⎥\n",
       "                      ⎥⎥\n",
       "    1         0       ⎥⎥\n",
       "                      ⎥⎥\n",
       "    0         1       ⎦⎦"
      ]
     },
     "execution_count": 4,
     "metadata": {},
     "output_type": "execute_result"
    }
   ],
   "source": [
    "rr.Ts"
   ]
  },
  {
   "cell_type": "markdown",
   "metadata": {},
   "source": [
    "La dirección del eje $z$ del sistema de referencia $\\{2\\}$ descrito en $\\{0\\}$ se puede obtener mediante:"
   ]
  },
  {
   "cell_type": "code",
   "execution_count": 5,
   "metadata": {},
   "outputs": [
    {
     "data": {
      "image/png": "[encoded data removed]",
      "text/latex": [
       "$\\displaystyle \\left[\\begin{matrix}0\\\\0\\\\1\\end{matrix}\\right]$"
      ],
      "text/plain": [
       "⎡0⎤\n",
       "⎢ ⎥\n",
       "⎢0⎥\n",
       "⎢ ⎥\n",
       "⎣1⎦"
      ]
     },
     "execution_count": 5,
     "metadata": {},
     "output_type": "execute_result"
    }
   ],
   "source": [
    "rr.z(2)"
   ]
  },
  {
   "cell_type": "markdown",
   "metadata": {},
   "source": [
    "La matriz jacobiana del manipulador puede obtenerse con el atributo `J`:"
   ]
  },
  {
   "cell_type": "code",
   "execution_count": 6,
   "metadata": {},
   "outputs": [
    {
     "data": {
      "image/png": "[encoded data removed]",
      "text/latex": [
       "$\\displaystyle \\left[\\begin{matrix}- l_{1} \\operatorname{sin}\\left(\\theta_1\\right) - l_{2} \\operatorname{sin}\\left(\\theta_1 + \\theta_2\\right) & - l_{2} \\operatorname{sin}\\left(\\theta_1 + \\theta_2\\right)\\\\l_{1} \\operatorname{cos}\\left(\\theta_1\\right) + l_{2} \\operatorname{cos}\\left(\\theta_1 + \\theta_2\\right) & l_{2} \\operatorname{cos}\\left(\\theta_1 + \\theta_2\\right)\\\\0 & 0\\\\0 & 0\\\\0 & 0\\\\1 & 1\\end{matrix}\\right]$"
      ],
      "text/plain": [
       "⎡-l₁⋅sin(\\theta₁) - l₂⋅sin(\\theta₁ + \\theta₂)  -l₂⋅sin(\\theta₁ + \\theta₂)⎤\n",
       "⎢                                                                        ⎥\n",
       "⎢l₁⋅cos(\\theta₁) + l₂⋅cos(\\theta₁ + \\theta₂)   l₂⋅cos(\\theta₁ + \\theta₂) ⎥\n",
       "⎢                                                                        ⎥\n",
       "⎢                     0                                    0             ⎥\n",
       "⎢                                                                        ⎥\n",
       "⎢                     0                                    0             ⎥\n",
       "⎢                                                                        ⎥\n",
       "⎢                     0                                    0             ⎥\n",
       "⎢                                                                        ⎥\n",
       "⎣                     1                                    1             ⎦"
      ]
     },
     "execution_count": 6,
     "metadata": {},
     "output_type": "execute_result"
    }
   ],
   "source": [
    "rr.J"
   ]
  },
  {
   "cell_type": "markdown",
   "metadata": {},
   "source": [
    "Si requiere sustituir valores numéricos utilice el método `subs`, cada elemento que obtiene de un cálculo es un objeto de SymPy y por tanto puede utilizar dicho método, por ejemplo:"
   ]
  },
  {
   "cell_type": "code",
   "execution_count": 7,
   "metadata": {},
   "outputs": [
    {
     "data": {
      "image/png": "[encoded data removed]",
      "text/latex": [
       "$\\displaystyle \\left[\\begin{matrix}1 & 0 & 0 & 200\\\\0 & 1 & 0 & 0\\\\0 & 0 & 1 & 0\\\\0 & 0 & 0 & 1\\end{matrix}\\right]$"
      ],
      "text/plain": [
       "⎡1  0  0  200⎤\n",
       "⎢            ⎥\n",
       "⎢0  1  0   0 ⎥\n",
       "⎢            ⎥\n",
       "⎢0  0  1   0 ⎥\n",
       "⎢            ⎥\n",
       "⎣0  0  0   1 ⎦"
      ]
     },
     "execution_count": 7,
     "metadata": {},
     "output_type": "execute_result"
    }
   ],
   "source": [
    "rr.T.subs({l1:100, l2:100, t1:0, t2:0})"
   ]
  },
  {
   "cell_type": "code",
   "execution_count": 8,
   "metadata": {},
   "outputs": [
    {
     "data": {
      "image/png": "[encoded data removed]",
      "text/latex": [
       "$\\displaystyle \\left[\\begin{matrix}-100 & -100\\\\100 & 0\\\\0 & 0\\\\0 & 0\\\\0 & 0\\\\1 & 1\\end{matrix}\\right]$"
      ],
      "text/plain": [
       "⎡-100  -100⎤\n",
       "⎢          ⎥\n",
       "⎢100    0  ⎥\n",
       "⎢          ⎥\n",
       "⎢ 0     0  ⎥\n",
       "⎢          ⎥\n",
       "⎢ 0     0  ⎥\n",
       "⎢          ⎥\n",
       "⎢ 0     0  ⎥\n",
       "⎢          ⎥\n",
       "⎣ 1     1  ⎦"
      ]
     },
     "execution_count": 8,
     "metadata": {},
     "output_type": "execute_result"
    }
   ],
   "source": [
    "rr.J.subs({l1:100, l2:100, t1:0, t2:pi/2})"
   ]
  },
  {
   "cell_type": "code",
   "execution_count": null,
   "metadata": {},
   "outputs": [],
   "source": []
  }
 ],
 "metadata": {
  "kernelspec": {
   "display_name": "Python 3",
   "language": "python",
   "name": "python3"
  },
  "language_info": {
   "codemirror_mode": {
    "name": "ipython",
    "version": 3
   },
   "file_extension": ".py",
   "mimetype": "text/x-python",
   "name": "python",
   "nbconvert_exporter": "python",
   "pygments_lexer": "ipython3",
   "version": "3.6.5"
  }
 },
 "nbformat": 4,
 "nbformat_minor": 2
}
